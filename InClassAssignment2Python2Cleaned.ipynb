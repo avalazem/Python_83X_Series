{
 "cells": [
  {
   "cell_type": "markdown",
   "metadata": {},
   "source": [
    "<h1>Question 1:  Create the following Dictionary and Display.</h1>\n",
    "<p>Hint:  Just requires 1 for-loop</p>\n",
    "<ol>\n",
    "    <li>Display the way the output appears. The Dictionary Variable used should be daysFree.  Use a for-loop with print statements to create the table from the Dictionary with the following data</li>\n",
    "    <li>mark->[2,9,16,30,31]</li>\n",
    "    <li>mary->[3,9,21,22,28]</li>\n",
    "    <li>jill->[1,8,17,21,28]</li>\n",
    "    <li>jody->[5,6,21,25,29]</li>\n",
    "    <li>john->[7,8,11,22,23]</li>\n",
    "</ol>"
   ]
  },
  {
   "cell_type": "code",
   "execution_count": 22,
   "metadata": {},
   "outputs": [
    {
     "name": "stdout",
     "output_type": "stream",
     "text": [
      "The contents of the Dictionary\n",
      "{'mark': [2, 9, 16, 30, 31], 'mary': [3, 9, 21, 22, 28], 'jill': [1, 8, 17, 21, 28], 'jody': [5, 6, 21, 25, 29], 'john': [7, 8, 11, 22, 23]} \n",
      "\n",
      "The days free for each person this month are!\n",
      "\n",
      "Mark -> [2, 9, 16, 30, 31]\n",
      "Mary -> [3, 9, 21, 22, 28]\n",
      "Jill -> [1, 8, 17, 21, 28]\n",
      "Jody -> [5, 6, 21, 25, 29]\n",
      "John -> [7, 8, 11, 22, 23]\n"
     ]
    }
   ],
   "source": []
  },
  {
   "cell_type": "markdown",
   "metadata": {},
   "source": [
    "<h1>Question 2:  Create the following Dictionary and Display.</h1>\n",
    "<p>Hint:  Use Q1 data but this might require 2 for-loops.  Display as shown no list []</p>"
   ]
  },
  {
   "cell_type": "code",
   "execution_count": 31,
   "metadata": {},
   "outputs": [
    {
     "name": "stdout",
     "output_type": "stream",
     "text": [
      "The days free for each person this month are!\n",
      "\n",
      "Mark ->  2  9  16  30  31\n",
      "Mary ->  3  9  21  22  28\n",
      "Jill ->  1  8  17  21  28\n",
      "Jody ->  5  6  21  25  29\n",
      "John ->  7  8  11  22  23\n"
     ]
    }
   ],
   "source": []
  },
  {
   "cell_type": "markdown",
   "metadata": {},
   "source": [
    "<h1>Question 3:  Create the following Dictionary and Display.</h1>\n",
    "<p>Hint: Refer to Q1 data.  But this might require 2 for-loops as well but a little more thought.  Display as shown, i.e. in column format</p>"
   ]
  },
  {
   "cell_type": "code",
   "execution_count": 32,
   "metadata": {},
   "outputs": [
    {
     "name": "stdout",
     "output_type": "stream",
     "text": [
      "The days free for each person this month are!\n",
      "\n",
      "Mark \tMary \tJill \tJody \tJohn \t\n",
      "2 \t3 \t1 \t5 \t7 \t\n",
      "9 \t9 \t8 \t6 \t8 \t\n",
      "16 \t21 \t17 \t21 \t11 \t\n",
      "30 \t22 \t21 \t25 \t22 \t\n",
      "31 \t28 \t28 \t29 \t23 \t\n"
     ]
    }
   ],
   "source": []
  },
  {
   "cell_type": "markdown",
   "metadata": {},
   "source": [
    "<h1>Question 4: Pay per day and Accumulate the Sum</h1>\n",
    "<ol>\n",
    "    <li>Your Pay increases every day by a factor of 2</li>\n",
    "    <li>Keep track of your total pay as you go</li>\n",
    "    <li>Create a list which shows the factor of 2 progression</li>\n",
    "    <li>Put your Pay in a list</li>\n",
    "    <li>Put your total Pay for each day in a list as well.</li>\n",
    "    <li>Given you start with $25 Pay on the first day.</li>\n",
    "    <li>Print both lists and output your final Paycheck on the 5th Day</li>\n",
    "</ol>"
   ]
  },
  {
   "cell_type": "code",
   "execution_count": 53,
   "metadata": {},
   "outputs": [
    {
     "name": "stdout",
     "output_type": "stream",
     "text": [
      "Factor of 2 progression ->  [1, 2, 4, 8, 16]\n",
      "Pay per day -> [25, 50, 100, 200, 400]\n",
      "Sum per day -> [25, 75, 175, 375, 775]\n",
      "\n",
      "Your Final Paycheck = $ 775\n"
     ]
    }
   ],
   "source": []
  },
  {
   "cell_type": "markdown",
   "metadata": {},
   "source": [
    "<h1>Question 5:  Multiplication Table - Display as Depicted.</h1>\n",
    "<ol>\n",
    "    <li>row list = [4,5,6,7]</li>\n",
    "    <li>col list = [3,5,7,9]</li>\n",
    "</ol>"
   ]
  },
  {
   "cell_type": "code",
   "execution_count": 38,
   "metadata": {},
   "outputs": [
    {
     "name": "stdout",
     "output_type": "stream",
     "text": [
      "Multiplication Table\n",
      "\n",
      "\t  3\t  5\t  7\t  9\n",
      "\n",
      "4\t 12\t 20\t 28\t 36\n",
      "5\t 15\t 25\t 35\t 45\n",
      "6\t 18\t 30\t 42\t 54\n",
      "7\t 21\t 35\t 49\t 63\n"
     ]
    }
   ],
   "source": []
  }
 ],
 "metadata": {
  "kernelspec": {
   "display_name": "Python 3",
   "language": "python",
   "name": "python3"
  },
  "language_info": {
   "codemirror_mode": {
    "name": "ipython",
    "version": 3
   },
   "file_extension": ".py",
   "mimetype": "text/x-python",
   "name": "python",
   "nbconvert_exporter": "python",
   "pygments_lexer": "ipython3",
   "version": "3.8.3"
  }
 },
 "nbformat": 4,
 "nbformat_minor": 4
}
