{
 "cells": [
  {
   "cell_type": "markdown",
   "metadata": {},
   "source": [
    "<h1>Assignment 1 Question 2: Find the min, max, and average of 10 random numbers.</h1>\n",
    "\n",
    "    Fill a list with random 2 digit numbers [10,99]\n",
    "    Use the min function.\n",
    "    Use the max function.\n",
    "    Use the sum function to calculate the average.\n",
    "    Print the list and the results found.\n"
   ]
  },
  {
   "cell_type": "code",
   "execution_count": 33,
   "metadata": {},
   "outputs": [
    {
     "name": "stdout",
     "output_type": "stream",
     "text": [
      "[86, 50, 33, 18, 49, 58, 10, 10, 47, 36]\n",
      "The maximum elemnt in the list is =  86\n"
     ]
    }
   ],
   "source": [
    "#Import libraries for random number generation\n",
    "import random as r\n",
    "from datetime import datetime as d\n",
    "r.seed(d.now())\n",
    "\n",
    "#Return a random integer N such that a <= N <= b. Alias for randint(a, b+1).\n",
    "a=10     \n",
    "bp1=100 #b+1, generates a random number between 10 and 99\n",
    "sizeLst=10\n",
    "\n",
    "#Fill a list with 10 random numbers\n",
    "lstRand=[r.randint(a,bp1) for x in range(sizeLst)]\n",
    "print(lstRand)\n",
    "\n",
    "#Find the maximum element in the list\n",
    "max=lstRand[0]\n",
    "for x in lstRand:\n",
    "    if max < x :\n",
    "        max=x\n",
    "print(\"The maximum elemnt in the list is = \",max)"
   ]
  },
  {
   "cell_type": "markdown",
   "metadata": {},
   "source": [
    "<h1>Assignment 2 Question 4: Pay per day and Accumulate the Sum</h1>\n",
    "\n",
    "    Your Pay increases every day by a factor of 2\n",
    "    Keep track of your total pay as you go\n",
    "    Create a list which shows the factor of 2 progression\n",
    "    Put your Pay in a list\n",
    "    Put your total Pay for each day in a list as well.\n",
    "    Given you start with $25 Pay on the first day.\n",
    "    Print both lists and output your final Paycheck on the 5th Day\n"
   ]
  },
  {
   "cell_type": "code",
   "execution_count": 27,
   "metadata": {},
   "outputs": [
    {
     "name": "stdout",
     "output_type": "stream",
     "text": [
      "List Pay Factor for each day =  [1, 2, 4, 8, 16]\n",
      "Pay per day                  =  [25, 50, 100, 200, 400]\n",
      "Cumulative Pay per day       =  [25, 75, 175, 375, 775]\n",
      "The Final day pay = $ 775\n"
     ]
    }
   ],
   "source": [
    "#Initial values\n",
    "nDay=5\n",
    "frstDyPay=25\n",
    "\n",
    "#Filling the list by comprehensions\n",
    "lstFactor=[2**x for x in range(nDay)]\n",
    "lstPayPerDay=[frstDyPay*x for x in lstFactor]\n",
    "\n",
    "#Initilize the Cumulative List and then compute each element\n",
    "lstCumPay=[0 for x in lstFactor]\n",
    "lstCumPay[0]=lstPayPerDay[0]\n",
    "for day in range(1,nDay):\n",
    "    lstCumPay[day]=lstPayPerDay[day]+lstCumPay[day-1]\n",
    "    \n",
    "#Displaying the output\n",
    "print(\"List Pay Factor for each day = \",lstFactor)\n",
    "print(\"Pay per day                  = \",lstPayPerDay)\n",
    "print(\"Cumulative Pay per day       = \",lstCumPay)\n",
    "print(\"The Final day pay = $\",lstCumPay[nDay-1])"
   ]
  },
  {
   "cell_type": "markdown",
   "metadata": {},
   "source": [
    "<h1>Assignment 2 Question 5: Multiplication Table - Display as Depicted.</h1>\n",
    "\n",
    "    row list = [4,5,6,7]\n",
    "    col list = [3,5,7,9]\n",
    "    "
   ]
  },
  {
   "cell_type": "code",
   "execution_count": 21,
   "metadata": {},
   "outputs": [
    {
     "name": "stdout",
     "output_type": "stream",
     "text": [
      "        Multiplication Table                        \n",
      "\n",
      "        3       5       7       9       \n",
      "\n",
      "4       12      20      28      36      \n",
      "5       15      25      35      45      \n",
      "6       18      30      42      54      \n",
      "7       21      35      49      63      \n"
     ]
    }
   ],
   "source": [
    "#Valuse for row and column\n",
    "lstRow = [4,5,6,7]\n",
    "lstCol = [3,5,7,9]\n",
    "\n",
    "#Format Strings used in outputting the table\n",
    "strFrmt=\"{:<8}{:<8}{:<8}{:<8}{:<8}\"\n",
    "strFrmt1=\"{:<8}\"\n",
    "\n",
    "#Heading 1\n",
    "print(strFrmt.format(\"\",\"Multiplication Table\",\"\",\"\",\"\"))\n",
    "print()\n",
    "print(strFrmt1.format(\"\"),end=\"\")\n",
    "\n",
    "#Heading 2\n",
    "for col in lstCol:\n",
    "    print(strFrmt1.format(col),end=\"\")\n",
    "print()\n",
    "print()\n",
    "\n",
    "#Guts of the table\n",
    "for row in lstRow:\n",
    "    #Row Headings\n",
    "    print(strFrmt1.format(row),end=\"\")\n",
    "    #Internal table computations\n",
    "    for col in lstCol:\n",
    "        print(strFrmt1.format(row*col),end=\"\")\n",
    "    print()\n"
   ]
  }
 ],
 "metadata": {
  "kernelspec": {
   "display_name": "Python 3",
   "language": "python",
   "name": "python3"
  },
  "language_info": {
   "codemirror_mode": {
    "name": "ipython",
    "version": 3
   },
   "file_extension": ".py",
   "mimetype": "text/x-python",
   "name": "python",
   "nbconvert_exporter": "python",
   "pygments_lexer": "ipython3",
   "version": "3.8.3"
  }
 },
 "nbformat": 4,
 "nbformat_minor": 4
}
