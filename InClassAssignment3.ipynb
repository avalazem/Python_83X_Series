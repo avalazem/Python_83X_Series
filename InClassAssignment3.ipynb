{
 "cells": [
  {
   "cell_type": "markdown",
   "metadata": {},
   "source": [
    "<h1>Question 1:  Build a dictionary from Lists.  Make up lists of ages and names.</h1>\n",
    "<ol>\n",
    "    <li>Fill a list with 5 names.</li>\n",
    "    <li>Fill a list with the ages that might be associated with those 5 names.</li>\n",
    "    <li>Transfer the name:age pairs one at a time with code from the lists to the dictionary.</li>\n",
    "    <li>Output the name list, age list, and the nameAge dictionary.</li>\n",
    "</ol>"
   ]
  },
  {
   "cell_type": "code",
   "execution_count": 4,
   "metadata": {},
   "outputs": [
    {
     "name": "stdout",
     "output_type": "stream",
     "text": [
      "{'Jill': 5, 'John': 10, 'Joan': 15, 'Hannah': 20, 'Jim': 25}\n",
      "{'Jill': 5, 'John': 10, 'Joan': 15, 'Hannah': 20, 'Jim': 25}\n",
      "{'Jill': 5, 'John': 10, 'Joan': 15, 'Hannah': 20, 'Jim': 25}\n"
     ]
    }
   ],
   "source": [
    "name=[\"Jill\",\"John\",\"Joan\",\"Hannah\",\"Jim\"]\n",
    "age=[5,10,15,20,25]\n",
    "nameage={}\n",
    "nameage[name[0]]=age[0]\n",
    "nameage[name[1]]=age[1]\n",
    "nameage[name[2]]=age[2]\n",
    "nameage[name[3]]=age[3]\n",
    "nameage[name[4]]=age[4]\n",
    "print(nameage)\n",
    "nmAgeCmp={name[x]:age[x] for x in range(0,len(name))}\n",
    "print(nmAgeCmp)\n",
    "ageNmCmp={name[x]:age[x] for x in range(0,len(age))}\n",
    "print(ageNmCmp)"
   ]
  },
  {
   "cell_type": "markdown",
   "metadata": {},
   "source": [
    "<h1>Question 2:  Modify the contents of a tuple.</h1>\n",
    "<ol>\n",
    "    <li>Fill a tuple with 5 names</li>\n",
    "    <li>Make a spelling mistake in one of the names</li>\n",
    "    <li>Correct the mistake in subsequent lines of code without simply retyping the tuple again, use code.</li>\n",
    "    <li>Print the tuple with the correction</li>\n",
    "</ol>"
   ]
  },
  {
   "cell_type": "code",
   "execution_count": 1,
   "metadata": {},
   "outputs": [
    {
     "name": "stdout",
     "output_type": "stream",
     "text": [
      "('Jill', 'John', 'Qoan', 'Janet', 'Jim')\n",
      "['Jill', 'John', 'Qoan', 'Janet', 'Jim']\n",
      "['Jill', 'John', 'Joan', 'Janet', 'Jim']\n",
      "('Jill', 'John', 'Joan', 'Janet', 'Jim')\n"
     ]
    }
   ],
   "source": [
    "tuple1=('Jill', 'John', 'Qoan', 'Janet', 'Jim')\n",
    "list1=list(tuple1)\n",
    "list2=list(list1)\n",
    "list2[2]='Joan'\n",
    "print(tuple1)\n",
    "tuple1=tuple(list2)\n",
    "print(list1)\n",
    "print(list2)\n",
    "print(tuple1)"
   ]
  },
  {
   "cell_type": "markdown",
   "metadata": {},
   "source": [
    "<h1>Question 3:  Is there a Mode in the list - A mode in a list simply means are the elements not unique</h1>\n",
    "<ol>\n",
    "    <li>Fill a list 1 at a time with 5 random numbers</li>\n",
    "    <li>Print \"Mode Found = \" False/True dependent on Result</li>\n",
    "    <li>What container would you use to compare if the Mode exists or not?</li>\n",
    "</ol>"
   ]
  },
  {
   "cell_type": "code",
   "execution_count": 7,
   "metadata": {},
   "outputs": [
    {
     "name": "stdout",
     "output_type": "stream",
     "text": [
      "See the random number between (1 and 10) =  3\n",
      "[2, 7, 4, 2, 2]\n",
      "{2, 4, 7}\n",
      "Mode Found\n"
     ]
    }
   ],
   "source": [
    "import random as r\n",
    "from datetime import datetime as d\n",
    "r.seed(d.now())\n",
    "print(\"See the random number between (1 and 10) = \", r.randint(1,10))\n",
    "list3=[r.randint(1,10) for x in range(0,5)]\n",
    "print(list3)\n",
    "set3=set(list3)\n",
    "print(set3)\n",
    "print(\"No Mode Found\") if len(list3)==len(set3) else print(\"Mode Found\")"
   ]
  },
  {
   "cell_type": "markdown",
   "metadata": {},
   "source": [
    "<h1>Question 4: Determine if the word is a Palindrome</h1>\n",
    "<ol>\n",
    "    <li>Create a list with 5 words.</li>\n",
    "    <li>Let 1 of the words be a Palindrome</li>\n",
    "    <li>Determine which word is a Palindrome with code, comparing 1 at a time.</li>\n",
    "</ol>"
   ]
  },
  {
   "cell_type": "code",
   "execution_count": 5,
   "metadata": {},
   "outputs": [
    {
     "name": "stdout",
     "output_type": "stream",
     "text": [
      "Jill  -> Palindrome -> False\n",
      "John  -> Palindrome -> False\n",
      "Joan  -> Palindrome -> False\n",
      "Hannah  -> Palindrome -> True\n",
      "Jim  -> Palindrome -> False\n"
     ]
    }
   ],
   "source": [
    "nameList=[\"Jill\",\"John\",\"Joan\",\"Hannah\",\"Jim\"]\n",
    "name=[x.lower() for x in nameList]\n",
    "print(nameList[0],\" -> Palindrome -> \",end=\"\")\n",
    "print(\"True\") if name[0]==name[0][::-1] else print(\"False\")\n",
    "print(nameList[1],\" -> Palindrome -> \",end=\"\")\n",
    "print(\"True\") if name[1]==name[1][::-1] else print(\"False\")\n",
    "print(nameList[2],\" -> Palindrome -> \",end=\"\")\n",
    "print(\"True\") if name[2]==name[2][::-1] else print(\"False\")\n",
    "print(nameList[3],\" -> Palindrome -> \",end=\"\")\n",
    "print(\"True\") if name[3]==name[3][::-1] else print(\"False\")\n",
    "print(nameList[4],\" -> Palindrome -> \",end=\"\")\n",
    "print(\"True\") if name[4]==name[4][::-1] else print(\"False\")"
   ]
  },
  {
   "cell_type": "code",
   "execution_count": null,
   "metadata": {},
   "outputs": [],
   "source": []
  }
 ],
 "metadata": {
  "kernelspec": {
   "display_name": "Python 3",
   "language": "python",
   "name": "python3"
  },
  "language_info": {
   "codemirror_mode": {
    "name": "ipython",
    "version": 3
   },
   "file_extension": ".py",
   "mimetype": "text/x-python",
   "name": "python",
   "nbconvert_exporter": "python",
   "pygments_lexer": "ipython3",
   "version": "3.8.3"
  }
 },
 "nbformat": 4,
 "nbformat_minor": 4
}
