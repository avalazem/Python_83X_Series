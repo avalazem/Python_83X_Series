{
 "cells": [
  {
   "cell_type": "markdown",
   "metadata": {},
   "source": [
    "<h1>Question 1: Determine if student passes or fails with random score.</h1>\n",
    "<p>Hint: Use ternary operator with passing score > 70</p>"
   ]
  },
  {
   "cell_type": "code",
   "execution_count": 25,
   "metadata": {},
   "outputs": [
    {
     "name": "stdout",
     "output_type": "stream",
     "text": [
      "With a score of 82 you pass the course!\n"
     ]
    }
   ],
   "source": [
    "#import the random number generator and set the seed\n",
    "import random as r\n",
    "from datetime import datetime as d\n",
    "r.seed(d.now())\n",
    "\n",
    "#Randomly set the score\n",
    "begin, end, pasfal=50, 100, 70\n",
    "score = r.randint(begin,end)\n",
    "  \n",
    "#Use the ternary operator to determine pass or fail\n",
    "grade = \"pass\" if score >= pasfal else \"fail\"\n",
    "  \n",
    "#Print the relevant information\n",
    "print(\"With a score of\",score,\"you\",grade,\"the course!\")"
   ]
  },
  {
   "cell_type": "markdown",
   "metadata": {},
   "source": [
    "<h1>Question 2:  Find the minimum and maximum from 3 different random variables.</h1>\n",
    "<p>Hint:  Use Ternary Operator Repeatedly</p>\n"
   ]
  },
  {
   "cell_type": "code",
   "execution_count": 24,
   "metadata": {},
   "outputs": [
    {
     "name": "stdout",
     "output_type": "stream",
     "text": [
      "a =  19\n",
      "b =  12\n",
      "c =  3\n",
      "The minimum of a,b,c =  3\n",
      "The maximum of a,b,c =  19\n"
     ]
    }
   ],
   "source": [
    "#import the random number generator and set the seed\n",
    "import random as r\n",
    "from datetime import datetime as d\n",
    "r.seed(d.now())\n",
    "\n",
    "#Randomly set 3 varaibles\n",
    "begin=1\n",
    "end=20\n",
    "a, b, c = r.randint(begin,end), r.randint(begin,end), r.randint(begin,end)\n",
    "  \n",
    "#Use the ternary operator 2 times = 2 lines to find the min then same for the max\n",
    "min = a if a < b else b \n",
    "min = c if c < min else min\n",
    "max = b if b > a else a\n",
    "max = c if c > max else max\n",
    "  \n",
    "#Print the relevant information\n",
    "print(\"a = \",a)\n",
    "print(\"b = \",b)\n",
    "print(\"c = \",c)\n",
    "print(\"The minimum of a,b,c = \", min) \n",
    "print(\"The maximum of a,b,c = \", max) "
   ]
  },
  {
   "cell_type": "markdown",
   "metadata": {},
   "source": [
    "<h1>Question 3:  Find the minimum and maximum from 3 different random variables.</h1>\n",
    "<p>Hint:  Use Ternary Operator on 1 line with line continued and logic operators</p>"
   ]
  },
  {
   "cell_type": "code",
   "execution_count": 26,
   "metadata": {},
   "outputs": [
    {
     "name": "stdout",
     "output_type": "stream",
     "text": [
      "a =  12\n",
      "b =  7\n",
      "c =  10\n",
      "The minimum of a,b,c =  7\n",
      "The maximum of a,b,c =  12\n"
     ]
    }
   ],
   "source": [
    "#import the random number generator and set the seed\n",
    "import random as r\n",
    "from datetime import datetime as d\n",
    "r.seed(d.now())\n",
    "\n",
    "#Randomly set 3 varaibles\n",
    "begin=1\n",
    "end=20\n",
    "a, b, c = r.randint(begin,end), r.randint(begin,end), r.randint(begin,end)\n",
    "  \n",
    "#Use the ternary operator with 1 line continuation and logic statements to find the min and max values\n",
    "min = a if a < b and a < c else \\\n",
    "      b if b < a and b < c else c\n",
    "max = a if a > b and a > c else \\\n",
    "      b if b > a and b > c else c\n",
    "  \n",
    "#Print the relevant information\n",
    "print(\"a = \",a)\n",
    "print(\"b = \",b)\n",
    "print(\"c = \",c)\n",
    "print(\"The minimum of a,b,c = \", min) \n",
    "print(\"The maximum of a,b,c = \", max) "
   ]
  },
  {
   "cell_type": "markdown",
   "metadata": {},
   "source": [
    "<h1>Question 4:  Create a random list and find the min and max values in the list.</h1>\n",
    "<p>Hint: Use a for-loop with a ternary operator for max and min</p>"
   ]
  },
  {
   "cell_type": "code",
   "execution_count": 21,
   "metadata": {},
   "outputs": [
    {
     "name": "stdout",
     "output_type": "stream",
     "text": [
      "[41, 13, 4, 3, 77, 74, 87, 46, 56, 42]\n",
      "The minimum of the list =  3\n",
      "The maximum of the list =  87\n"
     ]
    }
   ],
   "source": [
    "#import the random number generator and set the seed\n",
    "import random as r\n",
    "from datetime import datetime as d\n",
    "r.seed(d.now())\n",
    "\n",
    "#Fill the list with random numbers\n",
    "lstSize=10\n",
    "small=1\n",
    "large=100\n",
    "lstMnMx=[r.randint(small,large) for x in range(0,lstSize)]\n",
    "  \n",
    "# Find the min/max using a for-loop and a ternary operator\n",
    "min=max=lstMnMx[0]\n",
    "for x in lstMnMx:\n",
    "    min = x if x < min else min\n",
    "    max = x if x > max else max\n",
    "\n",
    "#Print the relevant information\n",
    "print(lstMnMx)\n",
    "print(\"The minimum of the list = \", min) \n",
    "print(\"The maximum of the list = \", max) "
   ]
  }
 ],
 "metadata": {
  "kernelspec": {
   "display_name": "Python 3",
   "language": "python",
   "name": "python3"
  },
  "language_info": {
   "codemirror_mode": {
    "name": "ipython",
    "version": 3
   },
   "file_extension": ".py",
   "mimetype": "text/x-python",
   "name": "python",
   "nbconvert_exporter": "python",
   "pygments_lexer": "ipython3",
   "version": "3.8.3"
  }
 },
 "nbformat": 4,
 "nbformat_minor": 4
}
