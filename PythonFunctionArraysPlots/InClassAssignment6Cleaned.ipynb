{
 "cells": [
  {
   "cell_type": "markdown",
   "metadata": {},
   "source": [
    "<h1>Question 1:  Build a dictionary from Lists.  Make up lists of ages and names.</h1>\n",
    "<ol>\n",
    "    <li>Fill a list with 5 names.</li>\n",
    "    <li>Fill a list with the ages that might be associated with those 5 names.</li>\n",
    "    <li>Fill a dictionary with the name:age pairs using a comprehension or one pair at a time from the lists to the dictionary.</li>\n",
    "    <li>Output the name list, age list, and the nameAge dictionary.</li>\n",
    "</ol>"
   ]
  },
  {
   "cell_type": "code",
   "execution_count": 1,
   "metadata": {},
   "outputs": [
    {
     "name": "stdout",
     "output_type": "stream",
     "text": [
      "['Jill', 'John', 'Joan', 'Hannah', 'Jim']\n",
      "[5, 10, 15, 20, 25]\n",
      "{'Jill': 5, 'John': 10, 'Joan': 15, 'Hannah': 20, 'Jim': 25}\n"
     ]
    }
   ],
   "source": [
    "name=[\"Jill\",\"John\",\"Joan\",\"Hannah\",\"Jim\"]\n",
    "age=[5,10,15,20,25]\n",
    "#nameAge={?}\n",
    "print(name)\n",
    "print(age)\n",
    "print(nameAge)"
   ]
  },
  {
   "cell_type": "markdown",
   "metadata": {},
   "source": [
    "<h1>Question 2:  Modify the contents of a tuple.</h1>\n",
    "<ol>\n",
    "    <li>Fill a tuple with 5 names</li>\n",
    "    <li>Make a spelling mistake in one of the names</li>\n",
    "    <li>Correct the mistake in subsequent lines of code without simply retyping the tuple again, use code.</li>\n",
    "    <li>Print the tuple with the correction</li>\n",
    "</ol>"
   ]
  },
  {
   "cell_type": "code",
   "execution_count": 43,
   "metadata": {},
   "outputs": [
    {
     "name": "stdout",
     "output_type": "stream",
     "text": [
      "('Jill', 'John', 'Qoan', 'Hannah', 'Jim')\n",
      "['Jill', 'John', 'Qoan', 'Hannah', 'Jim']\n",
      "['Jill', 'John', 'Joan', 'Hannah', 'Jim']\n",
      "('Jill', 'John', 'Joan', 'Hannah', 'Jim')\n"
     ]
    }
   ],
   "source": [
    "tNames=(\"Jill\",\"John\",\"Qoan\",\"Hannah\",\"Jim\")\n",
    "\n",
    "print(tNames)\n",
    "print(lNames)\n",
    "\n",
    "print(lNames)\n",
    "print(tNames)"
   ]
  },
  {
   "cell_type": "markdown",
   "metadata": {},
   "source": [
    "<h1>Question 3:  Is there a Mode in the list - A mode in a list simply means are the elements not unique</h1>\n",
    "<ol>\n",
    "    <li>Fill a list using a comprehension with 5 random numbers [1,10]</li>\n",
    "    <li>Print \"Mode Found = \" False/True dependent on the List</li>\n",
    "    <li>What container would you use to compare if the Mode exists or not?</li>\n",
    "</ol>"
   ]
  },
  {
   "cell_type": "code",
   "execution_count": 36,
   "metadata": {},
   "outputs": [
    {
     "name": "stdout",
     "output_type": "stream",
     "text": [
      "[1, 10, 9, 1, 10]\n",
      "{1, 10, 9}\n",
      "Mode Found =  True\n"
     ]
    }
   ],
   "source": [
    "import random as r\n",
    "from datetime import datetime as d\n",
    "r.seed(d.now())\n",
    "\n",
    "#xList=[?]\n",
    "print(xList)\n",
    "#xSet=set(?)\n",
    "print(xSet)\n",
    "print(\"Mode Found = \",?)\n",
    "\n"
   ]
  },
  {
   "cell_type": "markdown",
   "metadata": {},
   "source": [
    "<h1>Question 4: Determine if the word is a Palindrome</h1>\n",
    "<ol>\n",
    "    <li>Create a list with 5 words.</li>\n",
    "    <li>Let 1 of the words be a Palindrome</li>\n",
    "    <li>Determine which word is a Palindrome with code, and fill a dictionary with string:\"Palindrome\" pairs from the list.</li>\n",
    "    <li>Create another dictionary from the list which are not Palindromes.</li>\n",
    "</ol>\n",
    "Hint 1:  Use a negative index to reverse the strings.<br>\n",
    "Hint 2:  Use for-in and if when filling the dictionary comprehension"
   ]
  },
  {
   "cell_type": "code",
   "execution_count": 46,
   "metadata": {},
   "outputs": [
    {
     "name": "stdout",
     "output_type": "stream",
     "text": [
      "The original List =  ['Jill', 'John', 'Joan', 'Hannah', 'Jim'] \n",
      "\n",
      "Dictionary with Palindromes =  {'Hannah': 'Palindrome'} \n",
      "\n",
      "Dictionary without Palindromes =  {'Jill': 'Not a Palindrome', 'John': 'Not a Palindrome', 'Joan': 'Not a Palindrome'} \n",
      "\n",
      "Combined Dictionary =  {'Jill': 'Not a Palindrome', 'John': 'Not a Palindrome', 'Joan': 'Not a Palindrome', 'Hannah': 'Palindrome'}\n"
     ]
    }
   ],
   "source": [
    "name    = [\"Jill\",\"John\",\"Joan\",\"Hannah\",\"Jim\"]\n",
    "#plndrm  = {?}\n",
    "#ntPlndrm= {?}\n",
    "combined= {}\n",
    "combined.update(ntPlndrm)\n",
    "combined.update(plndrm)\n",
    "print(\"The original List = \",name,'\\n')\n",
    "print(\"Dictionary with Palindromes = \",plndrm,'\\n')\n",
    "print(\"Dictionary without Palindromes = \",ntPlndrm,'\\n')\n",
    "print(\"Combined Dictionary = \",combined)"
   ]
  }
 ],
 "metadata": {
  "kernelspec": {
   "display_name": "Python 3",
   "language": "python",
   "name": "python3"
  },
  "language_info": {
   "codemirror_mode": {
    "name": "ipython",
    "version": 3
   },
   "file_extension": ".py",
   "mimetype": "text/x-python",
   "name": "python",
   "nbconvert_exporter": "python",
   "pygments_lexer": "ipython3",
   "version": "3.8.3"
  }
 },
 "nbformat": 4,
 "nbformat_minor": 4
}
