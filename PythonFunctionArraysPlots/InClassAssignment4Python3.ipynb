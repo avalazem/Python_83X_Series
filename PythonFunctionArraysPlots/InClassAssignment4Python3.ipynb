{
 "cells": [
  {
   "cell_type": "markdown",
   "metadata": {},
   "source": [
    "<h1>Question 1:  File Create</h1>\n",
    "    <p>I have created a file with random # of rows and random # of columns.  Use the file I created for the following Questions.  Note:  This question has already been done.  Just use the file created by it, which I supply to answer the next questions.</p>"
   ]
  },
  {
   "cell_type": "code",
   "execution_count": 11,
   "metadata": {},
   "outputs": [
    {
     "name": "stdout",
     "output_type": "stream",
     "text": [
      "9 9 8 9 7 \n",
      "2 7 \n",
      "8 6 2 \n",
      "7 4 4 \n",
      "8 3 9 7 6 9 \n",
      "2 7 6 \n",
      "7 8 \n"
     ]
    }
   ],
   "source": [
    "#Import the random Library\n",
    "import random as r\n",
    "\n",
    "#Open a file to write to\n",
    "fileObj = open(\"fileRandomRowCol.dat\",'w')\n",
    "\n",
    "#Write to a file with random rows and random columns\n",
    "for row in range(1,r.randint(2,9)):\n",
    "    for col in range(1,r.randint(2,9)):\n",
    "        rndNum=str(r.randint(1,9))+\" \"\n",
    "        print(rndNum,end=\"\")\n",
    "        fileObj.write(rndNum)\n",
    "    fileObj.write(\"\\n\")\n",
    "    print()\n",
    "\n",
    "#Close the file\n",
    "fileObj.close()"
   ]
  },
  {
   "cell_type": "markdown",
   "metadata": {},
   "source": [
    "<h1>Question 2:  File Read</h1>\n",
    "    <p>Read the file from Queston 1, place the contents in a List, then print the list.  Note:  Each line is a list which is placed in another list.  A list of lists.</p>"
   ]
  },
  {
   "cell_type": "code",
   "execution_count": 12,
   "metadata": {},
   "outputs": [
    {
     "name": "stdout",
     "output_type": "stream",
     "text": [
      "[['9', '9', '8', '9', '7'], ['2', '7'], ['8', '6', '2'], ['7', '4', '4'], ['8', '3', '9', '7', '6', '9'], ['2', '7', '6'], ['7', '8']]\n"
     ]
    }
   ],
   "source": [
    "#Open a the file provided then read contents\n",
    "fileObj = open(\"fileRandomRowCol.dat\",'r')\n",
    "\n",
    "#Read the file line by line and append the column list to the row list\n",
    "rowList=[]\n",
    "for row in fileObj:\n",
    "    colList=row.split()\n",
    "    rowList.append(colList)\n",
    "    \n",
    "#Display the row List\n",
    "print(rowList)\n",
    "\n",
    "#Close the file\n",
    "fileObj.close()"
   ]
  },
  {
   "cell_type": "markdown",
   "metadata": {},
   "source": [
    "<h1>Question 3:  File Create with exporting to a JSON String</h1>\n",
    "    <p>Repeat question 2 but place the rowlist object in a JSON string and write that to a file</p>"
   ]
  },
  {
   "cell_type": "code",
   "execution_count": 15,
   "metadata": {},
   "outputs": [
    {
     "name": "stdout",
     "output_type": "stream",
     "text": [
      "[[\"9\", \"9\", \"8\", \"9\", \"7\"], [\"2\", \"7\"], [\"8\", \"6\", \"2\"], [\"7\", \"4\", \"4\"], [\"8\", \"3\", \"9\", \"7\", \"6\", \"9\"], [\"2\", \"7\", \"6\"], [\"7\", \"8\"]]\n"
     ]
    }
   ],
   "source": [
    "#Import the JSON Library\n",
    "import json\n",
    "\n",
    "#Open a file to read from then write to\n",
    "fileObj  = open(\"fileRandomRowCol.dat\",'r')\n",
    "fileJSON = open(\"fileJSON.dat\",'w')\n",
    "\n",
    "#Read the file line by line and append the column list to the row list\n",
    "rowList=[]\n",
    "for row in fileObj:\n",
    "    colList=row.split()\n",
    "    rowList.append(colList)\n",
    "    \n",
    "#Create a JSON string\n",
    "jsonStr=json.dumps(rowList)\n",
    "    \n",
    "#Display the row List of the JSON string\n",
    "print(jsonStr)\n",
    "\n",
    "#Write the JSON string to a file and close the files\n",
    "fileJSON.write(jsonStr)\n",
    "fileJSON.close()\n",
    "fileObj.close()"
   ]
  },
  {
   "cell_type": "markdown",
   "metadata": {},
   "source": [
    "<h1>Question 4:  JSON File Read</h1>\n",
    "    <p>Read from the last file created in Question 3.  Convert the string into a Python object.  Then print the Python object</p>"
   ]
  },
  {
   "cell_type": "code",
   "execution_count": 16,
   "metadata": {},
   "outputs": [
    {
     "name": "stdout",
     "output_type": "stream",
     "text": [
      "[['9', '9', '8', '9', '7'], ['2', '7'], ['8', '6', '2'], ['7', '4', '4'], ['8', '3', '9', '7', '6', '9'], ['2', '7', '6'], ['7', '8']]\n"
     ]
    }
   ],
   "source": [
    "#Import the JSON Library\n",
    "import json\n",
    "\n",
    "#Open a file to read\n",
    "fileJSON = open(\"fileJSON.dat\",'r')\n",
    "\n",
    "#Read the file \n",
    "jsonStr=fileJSON.read()\n",
    "    \n",
    "#Load the json string into a List\n",
    "rowList=json.loads(jsonStr)\n",
    "    \n",
    "#Display the row List derived from the JSON string\n",
    "print(rowList)\n",
    "\n",
    "#Close the File\n",
    "fileJSON.close()"
   ]
  }
 ],
 "metadata": {
  "kernelspec": {
   "display_name": "Python 3",
   "language": "python",
   "name": "python3"
  },
  "language_info": {
   "codemirror_mode": {
    "name": "ipython",
    "version": 3
   },
   "file_extension": ".py",
   "mimetype": "text/x-python",
   "name": "python",
   "nbconvert_exporter": "python",
   "pygments_lexer": "ipython3",
   "version": "3.8.3"
  }
 },
 "nbformat": 4,
 "nbformat_minor": 4
}
