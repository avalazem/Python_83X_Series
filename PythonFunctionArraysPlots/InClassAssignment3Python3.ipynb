{
 "cells": [
  {
   "cell_type": "markdown",
   "metadata": {},
   "source": [
    "<h1>Question 1:  File Create</h1>\n",
    "    <p>Create a file with 1 2 3 on the same line</p>"
   ]
  },
  {
   "cell_type": "code",
   "execution_count": 7,
   "metadata": {},
   "outputs": [],
   "source": [
    "#Open a file to write to\n",
    "fileObj = open(\"file123\",'w')\n",
    "\n",
    "#Write to a file, 1 line having the following output\n",
    "#1 2 3 \n",
    "for num in range(1,4):\n",
    "    strNum=str(num)+\" \"\n",
    "    fileObj.write(strNum)\n",
    "\n",
    "#Close the file\n",
    "fileObj.close()"
   ]
  },
  {
   "cell_type": "markdown",
   "metadata": {},
   "source": [
    "<h1>Question 2:  File Read</h1>\n",
    "    <p>Read the file from Queston 1, place the contents in a List, then print the list.</p>"
   ]
  },
  {
   "cell_type": "code",
   "execution_count": 8,
   "metadata": {},
   "outputs": [
    {
     "name": "stdout",
     "output_type": "stream",
     "text": [
      "['1', '2', '3']\n"
     ]
    }
   ],
   "source": [
    "#Open a file to write to\n",
    "fileObj = open(\"file123\",'r')\n",
    "\n",
    "#Write to a file, 1 line having the following output\n",
    "#1 2 3 \n",
    "for line in fileObj:\n",
    "    listNum=line.split()\n",
    "\n",
    "#Display the List\n",
    "print(listNum)\n",
    "\n",
    "#Close the file\n",
    "fileObj.close()"
   ]
  },
  {
   "cell_type": "markdown",
   "metadata": {},
   "source": [
    "<h1>Question 3:  File Create - Multiple Lines</h1>\n",
    "    <p>Create a file with the following content, 3 rows, 3 columns</p>\n",
    "    <br>1 2 3 </br>\n",
    "    <br>4 5 6 </br>\n",
    "    <br>7 8 9 </br>"
   ]
  },
  {
   "cell_type": "code",
   "execution_count": 11,
   "metadata": {},
   "outputs": [],
   "source": [
    "#Open a file to write to\n",
    "fileObj = open(\"file3x3\",'w')\n",
    "\n",
    "#Write to a file, 3 lines having 3 numbers per line\n",
    "for num in range(1,10):\n",
    "    strNum=str(num)+\" \"\n",
    "    if num%3==0:\n",
    "        strNum+=\"\\n\"\n",
    "    fileObj.write(strNum)\n",
    "\n",
    "#Close the file\n",
    "fileObj.close()"
   ]
  },
  {
   "cell_type": "markdown",
   "metadata": {},
   "source": [
    "<h1>Question 4:  File Read - Multiple Lines</h1>\n",
    "    <p>Read from the last file created in Question 3.  Put each column element in a list, then put each column list into a row list.</p>"
   ]
  },
  {
   "cell_type": "code",
   "execution_count": 15,
   "metadata": {},
   "outputs": [
    {
     "name": "stdout",
     "output_type": "stream",
     "text": [
      "[['1', '2', '3'], ['4', '5', '6'], ['7', '8', '9']]\n"
     ]
    }
   ],
   "source": [
    "#Open a file to write to\n",
    "fileObj = open(\"file3x3\",'r')\n",
    "\n",
    "#Write to a file, 1 line having the following output\n",
    "#1 2 3 \n",
    "listMat=[]\n",
    "for line in fileObj:\n",
    "    listNum=line.split()\n",
    "    listMat.append(listNum)\n",
    "\n",
    "#Display the List\n",
    "print(listMat)\n",
    "\n",
    "#Close the file\n",
    "fileObj.close()"
   ]
  }
 ],
 "metadata": {
  "kernelspec": {
   "display_name": "Python 3",
   "language": "python",
   "name": "python3"
  },
  "language_info": {
   "codemirror_mode": {
    "name": "ipython",
    "version": 3
   },
   "file_extension": ".py",
   "mimetype": "text/x-python",
   "name": "python",
   "nbconvert_exporter": "python",
   "pygments_lexer": "ipython3",
   "version": "3.8.3"
  }
 },
 "nbformat": 4,
 "nbformat_minor": 4
}
