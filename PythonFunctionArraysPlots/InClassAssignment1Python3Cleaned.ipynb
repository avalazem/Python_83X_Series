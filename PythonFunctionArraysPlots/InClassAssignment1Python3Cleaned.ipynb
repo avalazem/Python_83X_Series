{
 "cells": [
  {
   "cell_type": "markdown",
   "metadata": {},
   "source": [
    "<h1>Grade Function</h1>\n",
    "<p><b>Explanation -></b> Create a function that grades a score.  Input a Score, output the grade.  Use 90/80/70/60 -> A/B/C/D/F as well as main() shown in the Lecture.  Also, use random numbers to test."
   ]
  },
  {
   "cell_type": "code",
   "execution_count": 10,
   "metadata": {},
   "outputs": [
    {
     "name": "stdout",
     "output_type": "stream",
     "text": [
      "Score =  90 Grade =  A\n"
     ]
    }
   ],
   "source": [
    "#import the random number generator and set the seed with the date\n",
    "import random as r\n",
    "from datetime import datetime as d\n",
    "r.seed(d.now())\n",
    "\n",
    "#Your Code Here!\n",
    "\n",
    "def main():\n",
    "    score = r.randint(50,100)\n",
    "    print(\"Score = \",score,\"Grade = \",grade(score))\n",
    "\n",
    "main()"
   ]
  },
  {
   "cell_type": "markdown",
   "metadata": {},
   "source": [
    "<h1>Paycheck Function</h1>\n",
    "<p>Create a function that inputs pay rate and hours to calculate the net pay. Straight pay for the first 40 hours and double time for hours over 40."
   ]
  },
  {
   "cell_type": "code",
   "execution_count": 21,
   "metadata": {},
   "outputs": [
    {
     "name": "stdout",
     "output_type": "stream",
     "text": [
      "Hours Worked =  41 Pay Rate =  19\n",
      "Net Pay Check = $ 798\n"
     ]
    }
   ],
   "source": [
    "#import the random number generator and set the seed with the date\n",
    "import random as r\n",
    "from datetime import datetime as d\n",
    "r.seed(d.now())\n",
    "\n",
    "#Your Code Here!\n",
    "\n",
    "def main():\n",
    "    payRate=r.randint(12,25)\n",
    "    hours=r.randint(30,50)\n",
    "    print(\"Hours Worked = \",hours,\"Pay Rate = \",payRate)\n",
    "    print(\"Net Pay Check = $\",netPay(hours,payRate))\n",
    "\n",
    "main()"
   ]
  }
 ],
 "metadata": {
  "kernelspec": {
   "display_name": "Python 3",
   "language": "python",
   "name": "python3"
  },
  "language_info": {
   "codemirror_mode": {
    "name": "ipython",
    "version": 3
   },
   "file_extension": ".py",
   "mimetype": "text/x-python",
   "name": "python",
   "nbconvert_exporter": "python",
   "pygments_lexer": "ipython3",
   "version": "3.8.3"
  }
 },
 "nbformat": 4,
 "nbformat_minor": 4
}
