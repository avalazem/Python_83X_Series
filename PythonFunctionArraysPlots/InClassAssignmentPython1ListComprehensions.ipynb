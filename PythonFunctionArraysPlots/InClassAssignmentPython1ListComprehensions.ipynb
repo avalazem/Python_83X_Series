{
 "cells": [
  {
   "cell_type": "markdown",
   "metadata": {},
   "source": [
    "<h1>List Comprehensions</h1>\n",
    "<p><b>Explanation -></b> Use the for-in-range() function to generate the following lists using list comprehensions."
   ]
  },
  {
   "cell_type": "code",
   "execution_count": 6,
   "metadata": {},
   "outputs": [
    {
     "name": "stdout",
     "output_type": "stream",
     "text": [
      "List 1 =  [3, 5, 7, 9]\n",
      "List 2 =  [9, 25, 49, 81]\n",
      "List 3 =  [10, 12, 14, 16, 18, 20, 22, 24, 26, 28]\n",
      "List 4 =  [100, 95, 90, 85, 80, 75, 70, 65, 60, 55]\n"
     ]
    }
   ],
   "source": [
    "list1 = [x    for x in range(3,10,2)   ]\n",
    "list2 = [x**2 for x in range(3,10,2)   ]\n",
    "list3 = [x    for x in range(10,30,2)  ]\n",
    "list4 = [x    for x in range(100,50,-5)]\n",
    "print(\"List 1 = \",list1)\n",
    "print(\"List 2 = \",list2)\n",
    "print(\"List 3 = \",list3)\n",
    "print(\"List 4 = \",list4)"
   ]
  },
  {
   "cell_type": "markdown",
   "metadata": {},
   "source": [
    "<h1>Complicated List Comprehensions</h1>\n",
    "<p> Use the for-in-range() function with if/ternary no else and mod operator in the list comprehensions to generate the following lists using list comprehensions. list2 are numbers from list1 that are multiples of 5 or multiples of 7."
   ]
  },
  {
   "cell_type": "code",
   "execution_count": 51,
   "metadata": {},
   "outputs": [
    {
     "name": "stdout",
     "output_type": "stream",
     "text": [
      "List 1 =  [1, 2, 3, 4, 5, 6, 7, 8, 9, 10, 11, 12, 13, 14, 15, 16, 17, 18, 19, 20, 21, 22, 23, 24, 25, 26, 27, 28, 29, 30, 31, 32, 33, 34, 35, 36, 37, 38, 39]\n",
      "List 2 =  [5, 7, 10, 14, 15, 20, 21, 25, 28, 30, 35]\n"
     ]
    }
   ],
   "source": [
    "list1 = [x    for x in range(1,40)]\n",
    "list2 = [x    for x in list1     if x%5==0 or x%7==0]\n",
    "print(\"List 1 = \",list1)\n",
    "print(\"List 2 = \",list2)\n"
   ]
  },
  {
   "cell_type": "markdown",
   "metadata": {},
   "source": [
    "<h1>List Comprehensions Reversed</h1>\n",
    "<p><b>Explanation -></b> Use the for-in-range() function to generate the following lists from string1 using list comprehensions."
   ]
  },
  {
   "cell_type": "code",
   "execution_count": 3,
   "metadata": {},
   "outputs": [
    {
     "name": "stdout",
     "output_type": "stream",
     "text": [
      "String 1 =  ABCDEFG\n",
      "List 1   =  ['A', 'B', 'C', 'D', 'E', 'F', 'G']\n",
      "List 2   =  ['G', 'F', 'E', 'D', 'C', 'B', 'A']\n"
     ]
    }
   ],
   "source": [
    "string1 = \"ABCDEFG\"\n",
    "list1   = [string1[x] for x in range(0,len(string1))]\n",
    "list2   = [string1[-x] for x in range(1,len(string1)+1)]\n",
    "print(\"String 1 = \",string1)\n",
    "print(\"List 1   = \",list1)\n",
    "print(\"List 2   = \",list2)"
   ]
  },
  {
   "cell_type": "markdown",
   "metadata": {},
   "source": [
    "<h1>List Comprehensions Palindrome</h1>\n",
    "<p><b>Explanation -></b> Use the previous problem to determine if a string is a Palindrome. Then use a ternary operator to output a message as shown."
   ]
  },
  {
   "cell_type": "code",
   "execution_count": 5,
   "metadata": {},
   "outputs": [
    {
     "name": "stdout",
     "output_type": "stream",
     "text": [
      "String 1 =  hannah\n",
      "List 1   =  ['h', 'a', 'n', 'n', 'a', 'h']\n",
      "List 2   =  ['h', 'a', 'n', 'n', 'a', 'h']\n",
      "String 2 =  hannah\n",
      "hannah is a Palindrome\n",
      "String 1 =  Hannah\n",
      "List 1   =  ['H', 'a', 'n', 'n', 'a', 'h']\n",
      "List 2   =  ['h', 'a', 'n', 'n', 'a', 'H']\n",
      "String 2 =  hannaH\n",
      "Hannah is Not a Palindrome\n"
     ]
    }
   ],
   "source": [
    "string1 = \"hannah\"\n",
    "list1   = [string1[x] for x in range(0,len(string1))]\n",
    "list2   = [string1[-x] for x in range(1,len(string1)+1)]\n",
    "string2 = \"\"\n",
    "string2 = string2.join(list2)\n",
    "print(\"String 1 = \",string1)\n",
    "print(\"List 1   = \",list1)\n",
    "print(\"List 2   = \",list2)\n",
    "print(\"String 2 = \",string2)\n",
    "msg = \"is a Palindrome\" if string1 == string2 else \"is Not a Palindrome\"\n",
    "print(string1,msg)\n",
    "\n",
    "string1 = \"Hannah\"\n",
    "list1   = [string1[x] for x in range(0,len(string1))]\n",
    "list2   = [string1[-x] for x in range(1,len(string1)+1)]\n",
    "string2 = \"\"\n",
    "string2 = string2.join(list2)\n",
    "print(\"String 1 = \",string1)\n",
    "print(\"List 1   = \",list1)\n",
    "print(\"List 2   = \",list2)\n",
    "print(\"String 2 = \",string2)\n",
    "msg = \"is a Palindrome\" if string1 == string2 else \"is Not a Palindrome\"\n",
    "print(string1,msg)\n"
   ]
  }
 ],
 "metadata": {
  "kernelspec": {
   "display_name": "Python 3",
   "language": "python",
   "name": "python3"
  },
  "language_info": {
   "codemirror_mode": {
    "name": "ipython",
    "version": 3
   },
   "file_extension": ".py",
   "mimetype": "text/x-python",
   "name": "python",
   "nbconvert_exporter": "python",
   "pygments_lexer": "ipython3",
   "version": "3.8.3"
  }
 },
 "nbformat": 4,
 "nbformat_minor": 4
}
