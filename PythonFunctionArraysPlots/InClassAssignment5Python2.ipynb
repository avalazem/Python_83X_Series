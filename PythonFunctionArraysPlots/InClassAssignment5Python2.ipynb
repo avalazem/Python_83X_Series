{
 "cells": [
  {
   "cell_type": "markdown",
   "metadata": {},
   "source": [
    "<h1>The Monty Hall Problem</h1>\n",
    "<p><b>Explanation -></b> Imagine that you’re on a television game show and the host presents you with three closed doors. Behind one of them, sits a sparkling, brand-new Lincoln Continental; behind the other two, are smelly old goats. The host implores you to pick a door, and you select door #1. Then, the host, who is well-aware of what’s going on behind the scenes, opens door #3, revealing one of the goats.\n",
    "\n",
    "“Now,” he says, turning toward you, “do you want to keep door #1, or do you want to switch to door #2?”\n",
    "\n",
    "Loosely based on the famous television game show Let’s Make a Deal, the scenario presented above, better known as the “Monty Hall Problem,” is a rather famous probability question. Despite its deceptive simplicity, some of the world’s brightest minds -- MIT professors, renowned mathematicians, and MacArthur “Genius” Fellows -- have had trouble grasping its answer. For decades, it has sparked intense debates in classrooms and lecture halls.</p>\n",
    "\n",
    "<p><b>Simulation -></b> Randomly set the following.</p>\n",
    "<ol>\n",
    "    <li>The door you choose to stay</li>\n",
    "    <li>The door the prize is behind</li>\n",
    "    <li>The door to open</li>\n",
    "    <li>The door to change or switch to if offered</li>\n",
    "</ol>\n",
    "Hint:  Randomly choose each, then make sure the door to open is not the prize or stay.  Then make sure the door to switch to if offered is not the stay or door to open."
   ]
  },
  {
   "cell_type": "code",
   "execution_count": 5,
   "metadata": {},
   "outputs": [
    {
     "name": "stdout",
     "output_type": "stream",
     "text": [
      "Door participant chooses     =  2\n",
      "Door the prize is behind     =  1\n",
      "Door to open                 =  3\n",
      "Door to switch to if offered =  1\n"
     ]
    }
   ],
   "source": [
    "#import the random number generator and set the seed with the date\n",
    "import random as r\n",
    "from datetime import datetime as d\n",
    "r.seed(d.now())\n",
    "\n",
    "\n",
    "#Choose the Doors\n",
    "stay   = r.randint(1,3)#Random door player chooses\n",
    "switch = r.randint(1,3)#Random door player could switch if offered\n",
    "prize  = r.randint(1,3)#Random door where prize is located\n",
    "dr2Opn = r.randint(1,3)#Random door to open\n",
    "    \n",
    "#Make sure doors are unique\n",
    "while dr2Opn == stay or dr2Opn == prize:\n",
    "    dr2Opn = r.randint(1,3)\n",
    "        \n",
    "#Determine the available door to switch to if offered\n",
    "while switch==stay or switch==dr2Opn:\n",
    "    switch=r.randint(1,3)\n",
    "        \n",
    "print(\"Door participant chooses     = \",stay)\n",
    "print(\"Door the prize is behind     = \",prize)\n",
    "print(\"Door to open                 = \",dr2Opn)\n",
    "print(\"Door to switch to if offered = \",switch)"
   ]
  },
  {
   "cell_type": "markdown",
   "metadata": {},
   "source": [
    "<h1>The Monty Hall Simulation Extended</h1>\n",
    "<p><b>Explanation -></b> Take the checked out solution from above.  Now, use a for-loop to play a million games.  \n",
    "</p>\n",
    "\n",
    "<p><b>Simulation -></b> Count the number of times you win the prize by staying vs. the times you win by switching.  Output the precentage Stay vs. Switch</p>"
   ]
  },
  {
   "cell_type": "code",
   "execution_count": 8,
   "metadata": {},
   "outputs": [
    {
     "name": "stdout",
     "output_type": "stream",
     "text": [
      "The percentage wins if staying   =  33.396 %\n",
      "The percentage wins if switching =  66.604 %\n"
     ]
    }
   ],
   "source": [
    "#import the random number generator and set the seed with the date\n",
    "import random as r\n",
    "from datetime import datetime as d\n",
    "r.seed(d.now())\n",
    "\n",
    "#Take stats\n",
    "PERCENT=100    #Constant, Percentage conversion\n",
    "nGames=1000000 #Number of Games to Simulate\n",
    "nStay=0        #Number of times Game is played and you win by staying\n",
    "nSwitch=0      #Number of times Game is played and you win by switching\n",
    "\n",
    "for ngames in range(1,nGames+1):\n",
    "    #Choose the Doors\n",
    "    stay   = r.randint(1,3)#Random door player chooses\n",
    "    switch = r.randint(1,3)#Random door player could switch if offered\n",
    "    prize  = r.randint(1,3)#Random door where prize is located\n",
    "    dr2Opn = r.randint(1,3)#Random door to open\n",
    "    \n",
    "    #Make sure doors are unique\n",
    "    while dr2Opn == stay or dr2Opn == prize:\n",
    "        dr2Opn = r.randint(1,3)\n",
    "        \n",
    "    #Determine the available door to switch to if offered\n",
    "    while switch==stay or switch==dr2Opn:\n",
    "        switch=r.randint(1,3)\n",
    "        \n",
    "    #Count how many times you win by staying or switching\n",
    "    if(stay==prize): nStay  += 1\n",
    "    else:            nSwitch+= 1\n",
    "        \n",
    "    #print(\"Door participant chooses  = \",stay)\n",
    "    #print(\"Door the prize is behind  = \",prize)\n",
    "    #print(\"Door to open              = \",dr2Opn)\n",
    "    #print(\"Door to switch if offered = \",switch)\n",
    "    \n",
    "print(\"The percentage wins if staying   = \",nStay/nGames*PERCENT,\"%\")\n",
    "print(\"The percentage wins if switching = \",nSwitch/nGames*PERCENT,\"%\")"
   ]
  }
 ],
 "metadata": {
  "kernelspec": {
   "display_name": "Python 3",
   "language": "python",
   "name": "python3"
  },
  "language_info": {
   "codemirror_mode": {
    "name": "ipython",
    "version": 3
   },
   "file_extension": ".py",
   "mimetype": "text/x-python",
   "name": "python",
   "nbconvert_exporter": "python",
   "pygments_lexer": "ipython3",
   "version": "3.8.3"
  }
 },
 "nbformat": 4,
 "nbformat_minor": 4
}
