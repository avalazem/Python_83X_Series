{
 "cells": [
  {
   "cell_type": "markdown",
   "metadata": {},
   "source": [
    "<h1>Question 1:  Build a dictionary from Lists.  Make up lists of ages and names.</h1>\n",
    "<ol>\n",
    "    <li>Fill a list with 5 names.</li>\n",
    "    <li>Fill a list with the ages that might be associated with those 5 names.</li>\n",
    "    <li>Transfer the name:age pairs one at a time with code from the lists to the dictionary.</li>\n",
    "    <li>Output the name list, age list, and the nameAge dictionary.</li>\n",
    "</ol>"
   ]
  },
  {
   "cell_type": "code",
   "execution_count": 36,
   "metadata": {},
   "outputs": [
    {
     "name": "stdout",
     "output_type": "stream",
     "text": [
      "['Jill', 'John', 'Joan', 'Janet', 'Jim']\n",
      "[5, 10, 15, 20, 25]\n",
      "{'Jill': 5, 'John': 10, 'Joan': 15, 'Janet': 20, 'Jim': 25}\n"
     ]
    }
   ],
   "source": [
    "name=[\"Jill\",\"John\",\"Joan\",\"Hannah\",\"Jim\"]"
   ]
  },
  {
   "cell_type": "markdown",
   "metadata": {},
   "source": [
    "<h1>Question 2:  Modify the contents of a tuple.</h1>\n",
    "<ol>\n",
    "    <li>Fill a tuple with 5 names</li>\n",
    "    <li>Make a spelling mistake in one of the names</li>\n",
    "    <li>Correct the mistake in subsequent lines of code without simply retyping the tuple again, use code.</li>\n",
    "    <li>Print the tuple with the correction</li>\n",
    "</ol>"
   ]
  },
  {
   "cell_type": "code",
   "execution_count": 10,
   "metadata": {},
   "outputs": [
    {
     "name": "stdout",
     "output_type": "stream",
     "text": [
      "('Jill', 'John', 'Qoan', 'Janet', 'Jim')\n",
      "['Jill', 'John', 'Qoan', 'Janet', 'Jim']\n",
      "['Jill', 'John', 'Joan', 'Janet', 'Jim']\n",
      "('Jill', 'John', 'Joan', 'Janet', 'Jim')\n"
     ]
    }
   ],
   "source": []
  },
  {
   "cell_type": "markdown",
   "metadata": {},
   "source": [
    "<h1>Question 3:  Is there a Mode in the list - A mode in a list simply means are the elements not unique</h1>\n",
    "<ol>\n",
    "    <li>Fill a list 1 at a time with 5 random numbers</li>\n",
    "    <li>Print \"Mode Found = \" False/True dependent on Result</li>\n",
    "    <li>What container would you use to compare if the Mode exists or not?</li>\n",
    "</ol>"
   ]
  },
  {
   "cell_type": "code",
   "execution_count": 2,
   "metadata": {},
   "outputs": [
    {
     "name": "stdout",
     "output_type": "stream",
     "text": [
      "See the random number between (1 and 10) =  10\n"
     ]
    }
   ],
   "source": [
    "import random as r\n",
    "from datetime import datetime as d\n",
    "r.seed(d.now())\n",
    "print(\"See the random number between (1 and 10) = \", r.randint(1,10))"
   ]
  },
  {
   "cell_type": "markdown",
   "metadata": {},
   "source": [
    "<h1>Question 4: Determine if the word is a Palindrome</h1>\n",
    "<ol>\n",
    "    <li>Create a list with 5 words.</li>\n",
    "    <li>Let 1 of the words be a Palindrome</li>\n",
    "    <li>Determine which word is a Palindrome with code, comparing 1 at a time.</li>\n",
    "</ol>"
   ]
  },
  {
   "cell_type": "code",
   "execution_count": 50,
   "metadata": {},
   "outputs": [
    {
     "name": "stdout",
     "output_type": "stream",
     "text": [
      "Jill  -> Palinedrome ->  False\n",
      "John  -> Palinedrome ->  False\n",
      "Joan  -> Palinedrome ->  False\n",
      "Hannah  -> Palinedrome ->  True\n",
      "Jim  -> Palinedrome ->  False\n"
     ]
    }
   ],
   "source": [
    "name=[\"Jill\",\"John\",\"Joan\",\"Hannah\",\"Jim\"]"
   ]
  }
 ],
 "metadata": {
  "kernelspec": {
   "display_name": "Python 3",
   "language": "python",
   "name": "python3"
  },
  "language_info": {
   "codemirror_mode": {
    "name": "ipython",
    "version": 3
   },
   "file_extension": ".py",
   "mimetype": "text/x-python",
   "name": "python",
   "nbconvert_exporter": "python",
   "pygments_lexer": "ipython3",
   "version": "3.8.3"
  }
 },
 "nbformat": 4,
 "nbformat_minor": 4
}
