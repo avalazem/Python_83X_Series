{
 "cells": [
  {
   "cell_type": "markdown",
   "metadata": {},
   "source": [
    "<h1>Question 1:  Use a for-loop, and Indexing</h1>\n",
    "<ol>\n",
    "    <li>a.  Fill a list with the numbers from 1 to 20</li>\n",
    "    <li>b.  Loop thru the list and print each number, stay on the same line.</li>\n",
    "    <li>c.  Loop thru the list and print every 4th number after the first, stay on the same line</li>\n",
    "    <li>d.  Print the list from b) without a loop just using indexing. </li>\n",
    "    <li>e.  Print the list from c) without a loop just using indexing. </li>\n",
    "</ol>"
   ]
  },
  {
   "cell_type": "code",
   "execution_count": 42,
   "metadata": {},
   "outputs": [
    {
     "name": "stdout",
     "output_type": "stream",
     "text": [
      "1  2  3  4  5  6  7  8  9  10  11  12  13  14  15  16  17  18  19  20  \n",
      "1  5  9  13  17  \n",
      "[1, 2, 3, 4, 5, 6, 7, 8, 9, 10, 11, 12, 13, 14, 15, 16, 17, 18, 19, 20]\n",
      "[1, 5, 9, 13, 17]\n"
     ]
    }
   ],
   "source": []
  },
  {
   "cell_type": "markdown",
   "metadata": {},
   "source": [
    "<h1>Question 2:  Find the min, max, and average of 10 random numbers.</h1>\n",
    "<ol>\n",
    "    <li>Fill a list with random 2 digit numbers [10,99]</li>\n",
    "    <li>Use the min function.</li>\n",
    "    <li>Use the max function.</li>\n",
    "    <li>Use the sum function to calculate the average.</li>\n",
    "    <li>Print the list and the results found.</li>\n",
    "</ol>"
   ]
  },
  {
   "cell_type": "code",
   "execution_count": 43,
   "metadata": {},
   "outputs": [
    {
     "name": "stdout",
     "output_type": "stream",
     "text": [
      "Example of a random number between 10 and 99 =  20\n",
      "The list =  [90, 72, 20, 30, 68, 26, 58, 99, 23, 43]\n",
      "The max in the list =  99\n",
      "The min in the list =  20\n",
      "The avg of the list =  52.9\n"
     ]
    }
   ],
   "source": []
  },
  {
   "cell_type": "markdown",
   "metadata": {},
   "source": [
    "<h1>Question 3:  Use a list comprehension to fill 3 lists and print</h1>\n",
    "<ol>\n",
    "    <li>Fill the first list with 1 to 10, then print.</li>\n",
    "    <li>Fill the second with the square of the first, then print.</li>\n",
    "    <li>Fill the third with the cube of the first, then print.</li>\n",
    "    <li>Print a table outputting the contents of the 3 lists</li>\n",
    "</ol>"
   ]
  },
  {
   "cell_type": "code",
   "execution_count": 3,
   "metadata": {},
   "outputs": [
    {
     "name": "stdout",
     "output_type": "stream",
     "text": [
      "[1, 2, 3, 4, 5, 6, 7, 8, 9, 10]\n",
      "[1, 4, 9, 16, 25, 36, 49, 64, 81, 100]\n",
      "[1.0, 8.0, 27.0, 64.0, 125.0, 216.0, 343.0, 512.0, 729.0, 1000.0]\n",
      "\t X \tX^2 \tX^3\n",
      "\t 1\t 1\t 1.0\n",
      "\t 2\t 4\t 8.0\n",
      "\t 3\t 9\t 27.0\n",
      "\t 4\t 16\t 64.0\n",
      "\t 5\t 25\t 125.0\n",
      "\t 6\t 36\t 216.0\n",
      "\t 7\t 49\t 343.0\n",
      "\t 8\t 64\t 512.0\n",
      "\t 9\t 81\t 729.0\n",
      "\t 10\t 100\t 1000.0\n"
     ]
    }
   ],
   "source": []
  },
  {
   "cell_type": "markdown",
   "metadata": {},
   "source": [
    "<h1>Question 4:Slice and Dice</h1>\n",
    "<ol>\n",
    "    <li>Take any list created so far or one you create having 10 or more elements.</li>\n",
    "    <li>Print the first 3 elements in the list using indexing.</li>\n",
    "    <li>Print the last 3 elements in the list using indexing.</li>\n",
    "    <li>Print the middle 3 elements in the list using indexing.</li>\n",
    "    \n",
    "</ol>"
   ]
  },
  {
   "cell_type": "code",
   "execution_count": 10,
   "metadata": {},
   "outputs": [
    {
     "name": "stdout",
     "output_type": "stream",
     "text": [
      "[0, 1, 2, 3, 4, 5, 6, 7, 8, 9, 10, 11, 12, 13, 14, 15, 16, 17, 18, 19, 20, 21, 22, 23, 24, 25, 26, 27, 28, 29, 30, 31, 32, 33, 34, 35, 36, 37, 38, 39, 40, 41, 42, 43, 44, 45, 46, 47, 48, 49, 50, 51, 52, 53, 54, 55, 56, 57, 58, 59, 60, 61, 62, 63, 64, 65, 66, 67, 68, 69, 70, 71, 72, 73, 74, 75, 76, 77, 78, 79, 80, 81, 82, 83, 84, 85, 86, 87, 88, 89, 90, 91, 92, 93, 94, 95, 96, 97, 98, 99, 100]\n",
      "[0, 1, 2]\n",
      "[98, 99, 100]\n",
      "[49, 50, 51]\n"
     ]
    }
   ],
   "source": []
  }
 ],
 "metadata": {
  "kernelspec": {
   "display_name": "Python 3",
   "language": "python",
   "name": "python3"
  },
  "language_info": {
   "codemirror_mode": {
    "name": "ipython",
    "version": 3
   },
   "file_extension": ".py",
   "mimetype": "text/x-python",
   "name": "python",
   "nbconvert_exporter": "python",
   "pygments_lexer": "ipython3",
   "version": "3.8.3"
  }
 },
 "nbformat": 4,
 "nbformat_minor": 4
}
