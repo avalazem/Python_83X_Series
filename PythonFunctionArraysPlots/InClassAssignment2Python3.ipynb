{
 "cells": [
  {
   "cell_type": "markdown",
   "metadata": {},
   "source": [
    "<h1>Query function to return a Person Dictionary</h1>\n",
    "<p><b>Explanation -> </b> Create a query() function that ask for a persons name and their age.  Return the results in a dictionary.</p>"
   ]
  },
  {
   "cell_type": "code",
   "execution_count": 2,
   "metadata": {},
   "outputs": [
    {
     "name": "stdout",
     "output_type": "stream",
     "text": [
      "Input your Name or type Quit: Jill\n",
      "Input your Age: 33\n",
      "{'Name': 'Jill', 'Age': 33}\n"
     ]
    }
   ],
   "source": [
    "#Define the query() function here!\n",
    "def query():\n",
    "    person={}\n",
    "    name=input(\"Input your Name or type Quit: \")\n",
    "    if name==\"Quit\":return \n",
    "    person[\"Name\"]=name\n",
    "    person[\"Age\"]=int(input(\"Input your Age: \"))\n",
    "    return person\n",
    "\n",
    "#Output the results of the query here!\n",
    "print(query())"
   ]
  },
  {
   "cell_type": "markdown",
   "metadata": {},
   "source": [
    "<h1>Fill List function to return a List of Dictionaries</h1>\n",
    "<p><b>Explanation -> </b>Create a fillst(n) function that calls the previsous query() function n number of times and then insert each object into a list,</p>"
   ]
  },
  {
   "cell_type": "code",
   "execution_count": 3,
   "metadata": {},
   "outputs": [
    {
     "name": "stdout",
     "output_type": "stream",
     "text": [
      "Input your Name or type Quit: Mark\n",
      "Input your Age: 33\n",
      "Input your Name or type Quit: Jill\n",
      "Input your Age: 23\n",
      "[{'Name': 'Mark', 'Age': 33}, {'Name': 'Jill', 'Age': 23}]\n"
     ]
    }
   ],
   "source": [
    "#Place previous query() function here!\n",
    "def query():\n",
    "    person={}\n",
    "    name=input(\"Input your Name or type Quit: \")\n",
    "    if name==\"Quit\":return \n",
    "    person[\"Name\"]=name\n",
    "    person[\"Age\"]=int(input(\"Input your Age: \"))\n",
    "    return person\n",
    "\n",
    "#Place fillst(num) function here\n",
    "def fillst(lstNum):\n",
    "    nameLst=[]\n",
    "    for x in range(0,lstNum):\n",
    "        lst=query()\n",
    "        if lst==None:break\n",
    "        nameLst.append(lst)\n",
    "    return nameLst\n",
    "\n",
    "#Display the List of Objects\n",
    "print(fillst(2))"
   ]
  },
  {
   "cell_type": "markdown",
   "metadata": {},
   "source": [
    "<h1>Display function to format the contents of each Object in the List</h1>\n",
    "<p><b>Explanation -> </b>Create a display(list) function that outputs the contents in the following way.</p>"
   ]
  },
  {
   "cell_type": "code",
   "execution_count": 5,
   "metadata": {},
   "outputs": [
    {
     "name": "stdout",
     "output_type": "stream",
     "text": [
      "Input your Name or type Quit: Jill\n",
      "Input your Age: 33\n",
      "Input your Name or type Quit: Toby\n",
      "Input your Age: 24\n",
      "Jill is 33 yrs old\n",
      "Toby is 24 yrs old\n"
     ]
    }
   ],
   "source": [
    "#Previously defined query() function here!\n",
    "def query():\n",
    "    person={}\n",
    "    name=input(\"Input your Name or type Quit: \")\n",
    "    if name==\"Quit\":return \n",
    "    person[\"Name\"]=name\n",
    "    person[\"Age\"]=int(input(\"Input your Age: \"))\n",
    "    return person\n",
    "\n",
    "#Previously defined fillst(num) function here!\n",
    "def fillst(lstNum):\n",
    "    nameLst=[]\n",
    "    for x in range(0,lstNum):\n",
    "        lst=query()\n",
    "        if lst==None:break\n",
    "        nameLst.append(lst)\n",
    "    return nameLst\n",
    "\n",
    "#Code the display(lstArray) function here!\n",
    "def display(lstArray):\n",
    "    for x in lstArray:\n",
    "        print(x[\"Name\"],\"is\",x[\"Age\"],\"yrs old\")\n",
    "            \n",
    "            \n",
    "#Call the dipslay function this way!\n",
    "display(fillst(2))"
   ]
  }
 ],
 "metadata": {
  "kernelspec": {
   "display_name": "Python 3",
   "language": "python",
   "name": "python3"
  },
  "language_info": {
   "codemirror_mode": {
    "name": "ipython",
    "version": 3
   },
   "file_extension": ".py",
   "mimetype": "text/x-python",
   "name": "python",
   "nbconvert_exporter": "python",
   "pygments_lexer": "ipython3",
   "version": "3.8.3"
  }
 },
 "nbformat": 4,
 "nbformat_minor": 4
}
