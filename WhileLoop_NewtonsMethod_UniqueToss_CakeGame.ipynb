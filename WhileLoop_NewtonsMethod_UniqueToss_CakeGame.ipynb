{
 "cells": [
  {
   "cell_type": "markdown",
   "metadata": {},
   "source": [
    "<h1>Newton's Method: Approximate the Square Root of a number!</h1>\n",
    "<ol> \n",
    "    <li>Ask the user to input a number of which they would like to know the square root!  </li>\n",
    "    <li>Ask the user how many guesses they would like to perform? </li>\n",
    "    <li>Start with a guess equal to 1/2 the number. </li>\n",
    "    <li>Output the guess and what iteration it is with a while loop. </li>\n",
    "    <li>Calculate a new quess = (previous quess)/2 + number/(2* previous guess).</li>\n",
    "    <li>Repeat 4 until the count is reached. </li>\n",
    "    <li>Compare the resultant guess with the square root of the number.</li>\n",
    "</ol>"
   ]
  },
  {
   "cell_type": "code",
   "execution_count": 2,
   "metadata": {},
   "outputs": [
    {
     "name": "stdout",
     "output_type": "stream",
     "text": [
      "This program calculates the square root\n",
      "Input the number: 100\n",
      "Number of guesses to make?: 20\n",
      "The Accuracy in Decimal Places?: 10\n",
      "The square root of ( 100.0 ) =  50.0 on 1 guess/es\n",
      "The square root of ( 100.0 ) =  26.0 on 2 guess/es\n",
      "The square root of ( 100.0 ) =  14.923076923076923 on 3 guess/es\n",
      "The square root of ( 100.0 ) =  10.812053925455988 on 4 guess/es\n",
      "The square root of ( 100.0 ) =  10.030495203889796 on 5 guess/es\n",
      "The square root of ( 100.0 ) =  10.000046356507898 on 6 guess/es\n",
      "The square root of ( 100.0 ) =  10.000000000107445 on 7 guess/es\n",
      "The final approximation = 10.0\n",
      "The actual answer = 10.0\n"
     ]
    }
   ],
   "source": [
    "#Query the user for inputs\n",
    "print(\"This program calculates the square root\")\n",
    "number=float(input(\"Input the number: \"))\n",
    "cntLoop=float(input(\"Number of guesses to make?: \"))\n",
    "accuracy=int(input(\"The Accuracy in Decimal Places?: \"))\n",
    "\n",
    "#Start the guess and the count\n",
    "guess=number/2\n",
    "cnt=1\n",
    "tolerance=10**(-accuracy)\n",
    "\n",
    "#Loop until done\n",
    "while abs(number-guess*guess)>tolerance and cnt <= cntLoop:\n",
    "    print(\"The square root of (\",number,\") = \",guess,\"on\",cnt,\"guess/es\")\n",
    "    guess=guess/2.0+number/(2.0*guess)\n",
    "    cnt+=1\n",
    "    \n",
    "#Compare the results\n",
    "print(\"The final approximation =\",guess)\n",
    "print(\"The actual answer =\",number**(0.5))"
   ]
  },
  {
   "cell_type": "markdown",
   "metadata": {},
   "source": [
    "<h1>Newton's Method: Approximate the Cube Root of a number!</h1>\n",
    "<ol> \n",
    "    <li>Ask the user to input a number of which they would like to know the cube root!  </li>\n",
    "    <li>Ask the user how accurate the answer, i.e. number of decimal places? </li>\n",
    "    <li>Start with a guess equal to 1/3 the number. </li>\n",
    "    <li>Output the guess and what iteration it is with a while loop. </li>\n",
    "    <li>Calculate a new quess = (2*previous quess)/3 + number/(3.0*previous guess**2).</li>\n",
    "    <li>Repeat 4 until the count is reached. </li>\n",
    "    <li>Compare the resultant guess with the cube root of the number.</li>\n",
    "</ol>"
   ]
  },
  {
   "cell_type": "code",
   "execution_count": 6,
   "metadata": {},
   "outputs": [
    {
     "name": "stdout",
     "output_type": "stream",
     "text": [
      "This program calculates the cube root\n",
      "Input the number: 9\n",
      "Number of guesses to make?: 10\n",
      "The Accuracy in Decimal Places?: 20\n",
      "The cube root of ( 9.0 ) =  3.0 on 1 guess/es\n",
      "The cube root of ( 9.0 ) =  2.3333333333333335 on 2 guess/es\n",
      "The cube root of ( 9.0 ) =  2.1065759637188206 on 3 guess/es\n",
      "The cube root of ( 9.0 ) =  2.080415589606098 on 4 guess/es\n",
      "The cube root of ( 9.0 ) =  2.0800838759563316 on 5 guess/es\n",
      "The cube root of ( 9.0 ) =  2.0800838230519054 on 6 guess/es\n",
      "The final approximation = 2.080083823051904\n",
      "The actual answer = 2.080083823051904\n"
     ]
    }
   ],
   "source": [
    "#Query the user for inputs\n",
    "print(\"This program calculates the cube root\")\n",
    "number=float(input(\"Input the number: \"))\n",
    "cntLoop=float(input(\"Number of guesses to make?: \"))\n",
    "accuracy=int(input(\"The Accuracy in Decimal Places?: \"))\n",
    "\n",
    "#Start the guess and the count\n",
    "guess=number/3\n",
    "cnt=1\n",
    "tolerance=10**(-accuracy)\n",
    "\n",
    "#Loop until done\n",
    "while abs(number-guess**3)>tolerance and cnt <= cntLoop:\n",
    "    print(\"The cube root of (\",number,\") = \",guess,\"on\",cnt,\"guess/es\")\n",
    "    guess=2.0*guess/3.0+number/3.0/guess/guess\n",
    "    cnt+=1\n",
    "    \n",
    "#Compare the results\n",
    "print(\"The final approximation =\",guess)\n",
    "print(\"The actual answer =\",number**(1.0/3))"
   ]
  },
  {
   "cell_type": "markdown",
   "metadata": {},
   "source": [
    "<h1>Generate 3 random values in the range 1 to 3.</h1>\n",
    "<p>Then generate 3 random values in the range 1 to 3 but with no duplicates.  Hint:  Use while loops and keep generating the values until none are the same.</p>"
   ]
  },
  {
   "cell_type": "code",
   "execution_count": 7,
   "metadata": {},
   "outputs": [
    {
     "name": "stdout",
     "output_type": "stream",
     "text": [
      "Possible Duplicates\n",
      "a =  1\n",
      "b =  2\n",
      "c =  2\n",
      "\n",
      "No possible duplicates\n",
      "a =  1\n",
      "b =  3\n",
      "c =  2\n"
     ]
    }
   ],
   "source": [
    "#import the random number generator and set the seed\n",
    "import random as r\n",
    "from datetime import datetime as d\n",
    "r.seed(d.now())\n",
    "\n",
    "#Randomly set 3 varaibles\n",
    "begin=1\n",
    "end=3\n",
    "a, b, c = r.randint(begin,end), r.randint(begin,end), r.randint(begin,end)\n",
    "  \n",
    "#Print the relevant information\n",
    "print(\"Possible Duplicates\")\n",
    "print(\"a = \",a)\n",
    "print(\"b = \",b)\n",
    "print(\"c = \",c)\n",
    "print()\n",
    "\n",
    "#How to make sure there are no duplicates\n",
    "a, b, c = r.randint(begin,end), r.randint(begin,end), r.randint(begin,end)\n",
    "while a==b:\n",
    "    b=r.randint(begin,end)\n",
    "    \n",
    "while c==a or c==b:\n",
    "    c=r.randint(begin,end)\n",
    "    \n",
    "#Print the relevant information\n",
    "print(\"No possible duplicates\")\n",
    "print(\"a = \",a)\n",
    "print(\"b = \",b)\n",
    "print(\"c = \",c)"
   ]
  },
  {
   "cell_type": "markdown",
   "metadata": {},
   "source": [
    "<h1>3 Students play the game, who gets the cake!</h1>\n",
    "<p>Alice has a key that works 1/3 of the time.  Bob has a key that works 1/2 the time.  However, Charlise has a key that works all the time.  The student at the end of the game not locked in a closet gets the cake.  Each student tries to lock the student with the best remaining key in a closet first.  You can't unlock the closet from the inside!  Alice starts, then Bob, then Charlise and it continues until there is only 1 student outside of a closet. </p>"
   ]
  },
  {
   "cell_type": "code",
   "execution_count": 15,
   "metadata": {},
   "outputs": [
    {
     "name": "stdout",
     "output_type": "stream",
     "text": [
      "C wins the cake\n"
     ]
    }
   ],
   "source": [
    "#import the random number generator and set the seed\n",
    "import random as r\n",
    "from datetime import datetime as d\n",
    "r.seed(d.now())\n",
    "\n",
    "#Fill the list with random numbers\n",
    "aOut=True\n",
    "aWorks=1.0/3\n",
    "bOut=True\n",
    "bWorks=0.50\n",
    "cOut=True\n",
    "cWorks=1.00\n",
    "  \n",
    "while aOut+bOut+cOut > 1:\n",
    "    if(r.uniform(0,1) <= aWorks and aOut):\n",
    "        if(cOut):cOut=False\n",
    "        else: bOut=False\n",
    "    if(r.uniform(0,1) <= bWorks and bOut):\n",
    "        if(cOut):cOut=False\n",
    "        else: aOut=False\n",
    "    if(r.uniform(0,1) <= cWorks and cOut):\n",
    "        if(bOut):bOut=False\n",
    "        else: aOut=False\n",
    "        \n",
    "if(aOut):print(\"A wins the cake\")\n",
    "if(bOut):print(\"B wins the cake\")\n",
    "if(cOut):print(\"C wins the cake\")"
   ]
  },
  {
   "cell_type": "markdown",
   "metadata": {},
   "source": [
    "<h1>3 Students play the game, who gets the cake!</h1>\n",
    "<p>Repeat the previous game over and over to determine the percentage of the time each student would win the cake. </p>"
   ]
  },
  {
   "cell_type": "code",
   "execution_count": 20,
   "metadata": {},
   "outputs": [
    {
     "name": "stdout",
     "output_type": "stream",
     "text": [
      "Total Number of Games = 1000000\n",
      "A wins  29.307100000000002 %\n",
      "B wins  42.472100000000005 %\n",
      "C wins  28.2208 %\n"
     ]
    }
   ],
   "source": [
    "#import the random number generator and set the seed\n",
    "import random as r\n",
    "from datetime import datetime as d\n",
    "r.seed(d.now())\n",
    "\n",
    "#Loop 1000 times to see how often each student wins the cake\n",
    "aWins=bWins=cWins=0\n",
    "nGames=1000000\n",
    "percent=100\n",
    "for game in range(1,nGames+1):\n",
    "\n",
    "    #Fill the list with random numbers\n",
    "    aOut=True\n",
    "    aWorks=1.0/4\n",
    "    bOut=True\n",
    "    bWorks=1.0/2\n",
    "    cOut=True\n",
    "    cWorks=1.00\n",
    "\n",
    "    while aOut+bOut+cOut > 1:\n",
    "        if(r.uniform(0,1) <= aWorks and aOut):\n",
    "            if(cOut):cOut=False\n",
    "            elif(bOut): bOut=False\n",
    "        if(r.uniform(0,1) <= bWorks and bOut):\n",
    "            if(cOut):cOut=False\n",
    "            elif(aOut): aOut=False\n",
    "        if(r.uniform(0,1) <= cWorks and cOut):\n",
    "            if(bOut):bOut=False\n",
    "            elif(aOut): aOut=False\n",
    "\n",
    "    if(aOut):aWins+=1\n",
    "    if(bOut):bWins+=1\n",
    "    if(cOut):cWins+=1\n",
    "\n",
    "#Display the results\n",
    "print(\"Total Number of Games =\",aWins+bWins+cWins)\n",
    "print(\"A wins \",aWins/nGames*percent,\"%\")\n",
    "print(\"B wins \",bWins/nGames*percent,\"%\")\n",
    "print(\"C wins \",cWins/nGames*percent,\"%\")\n"
   ]
  },
  {
   "cell_type": "code",
   "execution_count": null,
   "metadata": {},
   "outputs": [],
   "source": []
  }
 ],
 "metadata": {
  "kernelspec": {
   "display_name": "Python 3",
   "language": "python",
   "name": "python3"
  },
  "language_info": {
   "codemirror_mode": {
    "name": "ipython",
    "version": 3
   },
   "file_extension": ".py",
   "mimetype": "text/x-python",
   "name": "python",
   "nbconvert_exporter": "python",
   "pygments_lexer": "ipython3",
   "version": "3.8.3"
  }
 },
 "nbformat": 4,
 "nbformat_minor": 4
}
