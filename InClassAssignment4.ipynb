{
 "cells": [
  {
   "cell_type": "markdown",
   "metadata": {},
   "source": [
    "<h1>Nested Objects</h1>"
   ]
  },
  {
   "cell_type": "code",
   "execution_count": 1,
   "metadata": {},
   "outputs": [
    {
     "name": "stdout",
     "output_type": "stream",
     "text": [
      "{'pagination': {'limit': 100, 'offset': 0, 'count': 100, 'total': 252}, 'data': [{'open': 132.13, 'high': 134.08, 'low': 131.62, 'close': 133.98, 'volume': 71729155.0, 'adj_high': 0, 'adj_low': 0, 'adj_close': 133.98, 'adj_open': 0, 'adj_volume': 0, 'split_factor': 1.0, 'symbol': 'AAPL', 'exchange': 'XNAS', 'date': '2021-06-22T00:00:00+0000'}, {'open': 130.3, 'high': 132.41, 'low': 129.2118, 'close': 132.3, 'volume': 79663316.0, 'adj_high': 0, 'adj_low': 0, 'adj_close': 132.3, 'adj_open': 0, 'adj_volume': 0, 'split_factor': 1.0, 'symbol': 'AAPL', 'exchange': 'XNAS', 'date': '2021-06-21T00:00:00+0000'}]}\n"
     ]
    }
   ],
   "source": [
    "null=0\n",
    "nestObj={\"pagination\":{\"limit\":100,\"offset\":0,\"count\":100,\"total\":252},\"data\":[{\"open\":132.13,\"high\":134.08,\"low\":131.62,\"close\":133.98,\"volume\":71729155.0,\"adj_high\":null,\"adj_low\":null,\"adj_close\":133.98,\"adj_open\":null,\"adj_volume\":null,\"split_factor\":1.0,\"symbol\":\"AAPL\",\"exchange\":\"XNAS\",\"date\":\"2021-06-22T00:00:00+0000\"},{\"open\":130.3,\"high\":132.41,\"low\":129.2118,\"close\":132.3,\"volume\":79663316.0,\"adj_high\":null,\"adj_low\":null,\"adj_close\":132.3,\"adj_open\":null,\"adj_volume\":null,\"split_factor\":1.0,\"symbol\":\"AAPL\",\"exchange\":\"XNAS\",\"date\":\"2021-06-21T00:00:00+0000\"}]}\n",
    "print(nestObj)"
   ]
  },
  {
   "cell_type": "markdown",
   "metadata": {},
   "source": [
    "<h3>Question 1: What are the keys and values to the first Embedded Object.  Place both in separate lists</h3>\n",
    "Create 2 list using list comprehensions from the nestObj dictionary.  "
   ]
  },
  {
   "cell_type": "code",
   "execution_count": 2,
   "metadata": {},
   "outputs": [
    {
     "name": "stdout",
     "output_type": "stream",
     "text": [
      "['pagination', 'data']\n",
      "\n",
      "[{'limit': 100, 'offset': 0, 'count': 100, 'total': 252}, [{'open': 132.13, 'high': 134.08, 'low': 131.62, 'close': 133.98, 'volume': 71729155.0, 'adj_high': 0, 'adj_low': 0, 'adj_close': 133.98, 'adj_open': 0, 'adj_volume': 0, 'split_factor': 1.0, 'symbol': 'AAPL', 'exchange': 'XNAS', 'date': '2021-06-22T00:00:00+0000'}, {'open': 130.3, 'high': 132.41, 'low': 129.2118, 'close': 132.3, 'volume': 79663316.0, 'adj_high': 0, 'adj_low': 0, 'adj_close': 132.3, 'adj_open': 0, 'adj_volume': 0, 'split_factor': 1.0, 'symbol': 'AAPL', 'exchange': 'XNAS', 'date': '2021-06-21T00:00:00+0000'}]]\n"
     ]
    }
   ],
   "source": [
    "keyList=[x for x in nestObj]\n",
    "print(keyList)\n",
    "print()\n",
    "valList=[nestObj[x] for x in nestObj]\n",
    "print(valList)"
   ]
  },
  {
   "cell_type": "markdown",
   "metadata": {},
   "source": [
    "<h3>Question 2: How would you fill an object with the second array element from the data key</h3>"
   ]
  },
  {
   "cell_type": "code",
   "execution_count": 16,
   "metadata": {},
   "outputs": [
    {
     "name": "stdout",
     "output_type": "stream",
     "text": [
      "{'open': 130.3, 'high': 132.41, 'low': 129.2118, 'close': 132.3, 'volume': 79663316.0, 'adj_high': 0, 'adj_low': 0, 'adj_close': 132.3, 'adj_open': 0, 'adj_volume': 0, 'split_factor': 1.0, 'symbol': 'AAPL', 'exchange': 'XNAS', 'date': '2021-06-21T00:00:00+0000'}\n"
     ]
    }
   ],
   "source": [
    "data2=nestObj[\"data\"][1]\n",
    "print(data2)"
   ]
  },
  {
   "cell_type": "markdown",
   "metadata": {},
   "source": [
    "<h3>Question 3: What is the symbol of the object found in Question 2</h3>"
   ]
  },
  {
   "cell_type": "code",
   "execution_count": 3,
   "metadata": {},
   "outputs": [
    {
     "name": "stdout",
     "output_type": "stream",
     "text": [
      "AAPL\n"
     ]
    }
   ],
   "source": [
    "sym=nestObj[\"data\"][1][\"symbol\"]\n",
    "print(sym)"
   ]
  }
 ],
 "metadata": {
  "kernelspec": {
   "display_name": "Python 3",
   "language": "python",
   "name": "python3"
  },
  "language_info": {
   "codemirror_mode": {
    "name": "ipython",
    "version": 3
   },
   "file_extension": ".py",
   "mimetype": "text/x-python",
   "name": "python",
   "nbconvert_exporter": "python",
   "pygments_lexer": "ipython3",
   "version": "3.8.3"
  }
 },
 "nbformat": 4,
 "nbformat_minor": 4
}
